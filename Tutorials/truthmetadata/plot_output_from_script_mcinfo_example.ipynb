{
 "cells": [
  {
   "cell_type": "markdown",
   "id": "b13fc5d8",
   "metadata": {},
   "source": [
    "This notebook provides an example of how to visualize the histograms produced from the script:\n",
    "`script_mcinfo_example.py`"
   ]
  },
  {
   "cell_type": "code",
   "execution_count": null,
   "id": "c4e612d3",
   "metadata": {},
   "outputs": [],
   "source": [
    "import ROOT as rt"
   ]
  },
  {
   "cell_type": "code",
   "execution_count": null,
   "id": "c2ae6f19",
   "metadata": {},
   "outputs": [],
   "source": [
    "rootfile = rt.TFile(\"test.root\")\n",
    "hnuE = rootfile.Get(\"hnuE\")\n",
    "hevis = rootfile.Get(\"hevis\")\n",
    "h2d = rootfile.Get(\"hnuE_v_evis\")"
   ]
  },
  {
   "cell_type": "code",
   "execution_count": null,
   "id": "e0fc12eb",
   "metadata": {},
   "outputs": [],
   "source": [
    "# create a canvas to draw the histogram\n",
    "cnuE = rt.TCanvas(\"cnuE\",\"True Neutrino Energy\",600,400)\n",
    "hnuE.Draw()\n",
    "cnuE.Draw()"
   ]
  },
  {
   "cell_type": "code",
   "execution_count": null,
   "id": "180742af",
   "metadata": {},
   "outputs": [],
   "source": [
    "# create a canvas to draw the evis histogram\n",
    "cevis = rt.TCanvas(\"cevis\",\"Visible Energy of neutrino interaction\",600,400)\n",
    "hevis.Draw()\n",
    "cevis.Draw()"
   ]
  },
  {
   "cell_type": "code",
   "execution_count": null,
   "id": "911eb533",
   "metadata": {},
   "outputs": [],
   "source": [
    "# create a canvas of the joint evis and true energy distribution\n",
    "c2d = rt.TCanvas(\"c2d\",\"True energy vs. evis\",600,400)\n",
    "h2d.SetTitle(\";true neutrino energy (MeV);visible energy (MeV)\")\n",
    "h2d.Draw(\"colz\") # draw using color scale\n",
    "# draw the 1:1 line for visualization\n",
    "l = rt.TLine(0,0,5000,5000)\n",
    "l.Draw()\n",
    "c2d.Draw()"
   ]
  },
  {
   "cell_type": "code",
   "execution_count": null,
   "id": "28750330",
   "metadata": {},
   "outputs": [],
   "source": []
  }
 ],
 "metadata": {
  "kernelspec": {
   "display_name": "Python 3 (ipykernel)",
   "language": "python",
   "name": "python3"
  },
  "language_info": {
   "codemirror_mode": {
    "name": "ipython",
    "version": 3
   },
   "file_extension": ".py",
   "mimetype": "text/x-python",
   "name": "python",
   "nbconvert_exporter": "python",
   "pygments_lexer": "ipython3",
   "version": "3.9.7"
  }
 },
 "nbformat": 4,
 "nbformat_minor": 5
}
