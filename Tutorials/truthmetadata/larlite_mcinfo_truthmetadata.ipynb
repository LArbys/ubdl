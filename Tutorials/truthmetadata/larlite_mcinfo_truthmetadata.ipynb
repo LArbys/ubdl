{
 "cells": [
  {
   "cell_type": "markdown",
   "id": "e0845f86",
   "metadata": {},
   "source": [
    "This notebook provides an example of extracting different types of metadata that describes the \"truth\"."
   ]
  },
  {
   "cell_type": "code",
   "execution_count": null,
   "id": "b8196a06",
   "metadata": {},
   "outputs": [],
   "source": [
    "import ROOT as rt\n",
    "from larlite import larlite"
   ]
  },
  {
   "cell_type": "code",
   "execution_count": null,
   "id": "1c0ad4be",
   "metadata": {},
   "outputs": [],
   "source": [
    "# make a list of input files you want to load\n",
    "# these should be \"larlite mcinfo files\" which contain the following ROOT trees\n",
    "#\n",
    "\"\"\"\n",
    "  KEY: TTree\tmctruth_corsika_tree;1\tmctruth Tree by corsika\n",
    "  KEY: TTree\tmctruth_generator_tree;1\tmctruth Tree by generator\n",
    "  KEY: TTree\tmcflux_generator_tree;1\tmcflux Tree by generator\n",
    "  KEY: TTree\tmcshower_mcreco_tree;1\tmcshower Tree by mcreco\n",
    "  KEY: TTree\tmctrack_mcreco_tree;1\tmctrack Tree by mcreco\n",
    "\"\"\"\n",
    "# you can check for these trees by opening the ROOT file with the ROOT interpreter\n",
    "\"\"\"\n",
    "> root -l file.root\n",
    "root[1] .ls\n",
    "\"\"\"\n",
    "\n",
    "f_v = [\"../../testdata/mcc9_v29e_dl_run3b_bnb_intrinsic_nue_overlay_nocrtremerge/merged_dlreco_001361e0-3306-491f-9098-1d08eee8458b.root\"]"
   ]
  },
  {
   "cell_type": "code",
   "execution_count": null,
   "id": "3ca6fd13",
   "metadata": {},
   "outputs": [],
   "source": [
    "# We create an instance of the larlite.storage_manager class which provides our interface to the file\n",
    "io = larlite.storage_manager( larlite.storage_manager.kREAD )\n",
    "for f in f_v:\n",
    "    io.add_in_filename( f )\n",
    "io.open()"
   ]
  },
  {
   "cell_type": "code",
   "execution_count": null,
   "id": "9d15bad6",
   "metadata": {},
   "outputs": [],
   "source": [
    "# Load an entry\n",
    "io.go_to(0)"
   ]
  },
  {
   "cell_type": "code",
   "execution_count": null,
   "id": "efa090c9",
   "metadata": {},
   "outputs": [],
   "source": []
  },
  {
   "cell_type": "code",
   "execution_count": null,
   "id": "df0f1abf",
   "metadata": {},
   "outputs": [],
   "source": [
    "# The Neutrino Interaction Information\n",
    "\n",
    "# this is a container of larlite::gtruth instances\n",
    "# https://github.com/NuTufts/larlite/blob/nutufts/larlite/DataFormat/gtruth.h\n",
    "# This class contains information from the GENIE interaction generator about \n",
    "#   the sampled neutrino-nucleus interaction.\n",
    "# The container below holds info on all the interactions in the event. For MicroBooNE,\n",
    "#   this should hold 1 event (very improbable that 2 interactions would occur in a beam event)\n",
    "ev_gtruth = io.get_data( larlite.data.kGTruth, \"generator\" )\n",
    "\n",
    "# get the first (and probably only) interaction in this event\n",
    "gtruth = ev_gtruth.at(0)\n",
    "\n",
    "# we can print out some info. Reference the gtruth.h header above to get more informaiton.\n",
    "\n",
    "print(\"Interaction code: \",gtruth.fGint)\n",
    "print(\"Neutrino Scattering code: \",gtruth.fGscatter)\n",
    "\n",
    "\"\"\"\n",
    "double         fgQ2;\n",
    "    double         fgq2;\n",
    "    double         fgW;\n",
    "    double         fgT;\n",
    "    double         fgX;\n",
    "    double         fgY;\n",
    "\"\"\"\n",
    "print(\"Q^2, the momentum transfered from the neutrino to the nucleus: \",gtruth.fgQ2)\n",
    "print(\"W, energy transfer to the lepton: \",gtruth.fgW)\n",
    "print(\"X, Bjorken X, fraction of neutrino energy carried off by lepton: \",gtruth.fgX)\n",
    "print(\"X, Bjorken Y, fraction of neutrino energy carried off by lepton: \",gtruth.fgY)"
   ]
  },
  {
   "cell_type": "code",
   "execution_count": null,
   "id": "e66e99d4",
   "metadata": {},
   "outputs": [],
   "source": []
  }
 ],
 "metadata": {
  "kernelspec": {
   "display_name": "Python 3 (ipykernel)",
   "language": "python",
   "name": "python3"
  },
  "language_info": {
   "codemirror_mode": {
    "name": "ipython",
    "version": 3
   },
   "file_extension": ".py",
   "mimetype": "text/x-python",
   "name": "python",
   "nbconvert_exporter": "python",
   "pygments_lexer": "ipython3",
   "version": "3.9.7"
  }
 },
 "nbformat": 4,
 "nbformat_minor": 5
}
