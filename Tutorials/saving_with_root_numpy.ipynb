{
 "cells": [
  {
   "cell_type": "code",
   "execution_count": 1,
   "metadata": {},
   "outputs": [
    {
     "name": "stdout",
     "output_type": "stream",
     "text": [
      "Welcome to JupyROOT 6.14/02\n"
     ]
    }
   ],
   "source": [
    "import ROOT as rt\n",
    "from larcv import larcv\n",
    "import numpy as np\n",
    "import matplotlib.pyplot as plt\n",
    "from array import array"
   ]
  },
  {
   "cell_type": "code",
   "execution_count": 2,
   "metadata": {},
   "outputs": [],
   "source": [
    "# Specify location of dataset\n",
    "# get the data at: http://www.stanford.edu/~kterao/public_data/v0.1.0/2d/classification/five_particles/practice_test_5k.root\n",
    "dataset = \"practice_test_5k.root\""
   ]
  },
  {
   "cell_type": "code",
   "execution_count": 3,
   "metadata": {},
   "outputs": [
    {
     "name": "stdout",
     "output_type": "stream",
     "text": [
      "TFile**\t\tpractice_test_5k.root\t\n",
      " TFile*\t\tpractice_test_5k.root\t\n",
      "  KEY: TTree\timage2d_data_tree;1\tdata tree\n",
      "  KEY: TTree\tparticle_mctruth_tree;1\tmctruth tree\n"
     ]
    }
   ],
   "source": [
    "# Open the ROT file and get a look of the ROOT Trees inside the file\n",
    "f = rt.TFile(dataset) # open file\n",
    "f.ls() # print contents\n",
    "f.Close() # close file (since we dont intend to interact with file directly"
   ]
  },
  {
   "cell_type": "code",
   "execution_count": 4,
   "metadata": {},
   "outputs": [
    {
     "data": {
      "text/plain": [
       "True"
      ]
     },
     "execution_count": 4,
     "metadata": {},
     "output_type": "execute_result"
    },
    {
     "name": "stdout",
     "output_type": "stream",
     "text": [
      "    \u001b[95m[NORMAL]\u001b[00m \u001b[0m \u001b[94m<input::prepare_input>\u001b[00m Opening a file in READ mode: practice_test_5k.root\n",
      "    \u001b[95m[NORMAL]\u001b[00m \u001b[0m \u001b[94m<input::initialize>\u001b[00m Prepared input with 5000 entries...\n"
     ]
    },
    {
     "name": "stderr",
     "output_type": "stream",
     "text": [
      "Warning in <TStreamerInfo::Build>: larcv::EventParticle: base class larcv::ParticleSet has no streamer or dictionary it will not be saved\n"
     ]
    }
   ],
   "source": [
    "# create instance of IOManager that will interface with file\n",
    "io = larcv.IOManager(larcv.IOManager.kREAD,\"input\",larcv.IOManager.kTickForward)\n",
    "io.add_in_file( dataset )\n",
    "io.initialize()"
   ]
  },
  {
   "cell_type": "code",
   "execution_count": 5,
   "metadata": {},
   "outputs": [
    {
     "data": {
      "text/plain": [
       "<ROOT.TBranchElement object (\"vtx\") at 0x561b7c8c3d80>"
      ]
     },
     "execution_count": 5,
     "metadata": {},
     "output_type": "execute_result"
    }
   ],
   "source": [
    "# Define a new ROOT File. We'll write to this one.\n",
    "# We also set up the TFile to overwrite any file with the same name.\n",
    "# To prevent re-writing, use the \"new\" option.\n",
    "outfile = rt.TFile(\"out.root\",\"recreate\")\n",
    "\n",
    "\n",
    "# Define a ROOT tree. We'll store different types of data into Branches.\n",
    "# Data in the tree is stored as entries (sort of like Rows in a data table)\n",
    "# with different values for the data type stored in the branches (sort of like Columns in a data table).\n",
    "# The useful feature of ROOT trees is that they store complex data such as instances of classes.\n",
    "tree = rt.TTree(\"example\",\"Example output tree\")\n",
    "\n",
    "# Define the branches and assign variable to save\n",
    "\n",
    "# branch to save numpy array storeing crop of image\n",
    "# Using a class in the larcv library whose purpose is to store numpy arrays in ROOT trees\n",
    "# see larcv/core/PyUtil/NumpyArray.h for more info on this class\n",
    "data = larcv.NumpyArrayFloat()\n",
    "tree.Branch(\"data\",data)\n",
    "\n",
    "# branch to save pdg code\n",
    "pdgcode = array('i',[0]) # single integer\n",
    "tree.Branch(\"pdg\",pdgcode,\"pdg/I\")\n",
    "\n",
    "# detector space vertex, stored as std::vector<float>\n",
    "vtx = rt.std.vector(\"float\")(3,0)\n",
    "tree.Branch(\"vtx\",vtx)\n",
    "\n",
    "# Now, everytime we call TTree::Fill() (via tree.Fill()), \n",
    "# the values stored in these class instances -- data, pdgcode,and vtx --\n",
    "# will be written to the ROOT File as an entry in the TTree.\n",
    "# For how to access this data, see the last cell below."
   ]
  },
  {
   "cell_type": "code",
   "execution_count": 6,
   "metadata": {},
   "outputs": [
    {
     "name": "stdout",
     "output_type": "stream",
     "text": [
      "[ 508 1327 3854 4556 1512 3327 2689 1898 1026 3070]\n"
     ]
    }
   ],
   "source": [
    "# Get number of entries in the data file\n",
    "NENTRIES = io.get_n_entries()\n",
    "\n",
    "# Pick 10 random entries in the data file\n",
    "entry_list = np.random.randint(0,NENTRIES-1,size=10)\n",
    "print(entry_list)"
   ]
  },
  {
   "cell_type": "code",
   "execution_count": 7,
   "metadata": {
    "scrolled": false
   },
   "outputs": [
    {
     "name": "stdout",
     "output_type": "stream",
     "text": [
      "('shape: ', (256, 256))\n",
      "ENTRY[508] PDG=11\n"
     ]
    },
    {
     "name": "stderr",
     "output_type": "stream",
     "text": [
      "/home/twongjirad/.local/lib/python2.7/site-packages/ipykernel_launcher.py:8: DeprecationWarning: PyArray_FromDimsAndDataAndDescr: use PyArray_NewFromDescr.\n",
      "  \n"
     ]
    },
    {
     "name": "stdout",
     "output_type": "stream",
     "text": [
      "('shape: ', (256, 256))\n",
      "ENTRY[1327] PDG=22\n",
      "('shape: ', (256, 256))\n",
      "ENTRY[3854] PDG=211\n"
     ]
    },
    {
     "name": "stderr",
     "output_type": "stream",
     "text": [
      "/usr/local/lib/python2.7/dist-packages/matplotlib/figure.py:403: UserWarning: matplotlib is currently using a non-GUI backend, so cannot show the figure\n",
      "  \"matplotlib is currently using a non-GUI backend, \"\n"
     ]
    },
    {
     "name": "stdout",
     "output_type": "stream",
     "text": [
      "('shape: ', (256, 256))\n",
      "ENTRY[4556] PDG=2212\n",
      "('shape: ', (256, 256))\n",
      "ENTRY[1512] PDG=22\n",
      "('shape: ', (256, 256))\n",
      "ENTRY[3327] PDG=211\n",
      "('shape: ', (256, 256))\n",
      "ENTRY[2689] PDG=13\n",
      "('shape: ', (256, 256))\n",
      "ENTRY[1898] PDG=22\n",
      "('shape: ', (256, 256))\n",
      "ENTRY[1026] PDG=22\n",
      "('shape: ', (256, 256))\n",
      "ENTRY[3070] PDG=211\n"
     ]
    },
    {
     "data": {
      "image/png": "[encoded data removed]",
      "text/plain": [
       "<matplotlib.figure.Figure at 0x7f7ea6fe86d0>"
      ]
     },
     "metadata": {
      "needs_background": "light"
     },
     "output_type": "display_data"
    },
    {
     "data": {
      "image/png": "[encoded data removed]",
      "text/plain": [
       "<matplotlib.figure.Figure at 0x7f7ec63819d0>"
      ]
     },
     "metadata": {
      "needs_background": "light"
     },
     "output_type": "display_data"
    },
    {
     "data": {
      "image/png": "[encoded data removed]",
      "text/plain": [
       "<matplotlib.figure.Figure at 0x7f7ec6270e50>"
      ]
     },
     "metadata": {
      "needs_background": "light"
     },
     "output_type": "display_data"
    },
    {
     "data": {
      "image/png": "[encoded data removed]",
      "text/plain": [
       "<matplotlib.figure.Figure at 0x7f7ec629b0d0>"
      ]
     },
     "metadata": {
      "needs_background": "light"
     },
     "output_type": "display_data"
    },
    {
     "data": {
      "image/png": "[encoded data removed]",
      "text/plain": [
       "<matplotlib.figure.Figure at 0x7f7ea4ee1c50>"
      ]
     },
     "metadata": {
      "needs_background": "light"
     },
     "output_type": "display_data"
    },
    {
     "data": {
      "image/png": "[encoded data removed]",
      "text/plain": [
       "<matplotlib.figure.Figure at 0x7f7ea4e44650>"
      ]
     },
     "metadata": {
      "needs_background": "light"
     },
     "output_type": "display_data"
    },
    {
     "data": {
      "image/png": "[encoded data removed]",
      "text/plain": [
       "<matplotlib.figure.Figure at 0x7f7ea4df6a90>"
      ]
     },
     "metadata": {
      "needs_background": "light"
     },
     "output_type": "display_data"
    },
    {
     "data": {
      "image/png": "[encoded data removed]",
      "text/plain": [
       "<matplotlib.figure.Figure at 0x7f7ea4cd2d10>"
      ]
     },
     "metadata": {
      "needs_background": "light"
     },
     "output_type": "display_data"
    },
    {
     "data": {
      "image/png": "[encoded data removed]",
      "text/plain": [
       "<matplotlib.figure.Figure at 0x7f7ea4cfd790>"
      ]
     },
     "metadata": {
      "needs_background": "light"
     },
     "output_type": "display_data"
    },
    {
     "data": {
      "image/png": "[encoded data removed]",
      "text/plain": [
       "<matplotlib.figure.Figure at 0x7f7ea4c250d0>"
      ]
     },
     "metadata": {
      "needs_background": "light"
     },
     "output_type": "display_data"
    }
   ],
   "source": [
    "for n,entry in enumerate(entry_list.tolist()):\n",
    "    \n",
    "    # go to entry number\n",
    "    io.read_entry(entry)\n",
    "    \n",
    "    # get the images and MC truth for the loaded entry\n",
    "    ev_data = io.get_data(larcv.kProductImage2D,\"data\")\n",
    "    ev_particle = io.get_data(larcv.kProductParticle, \"mctruth\")\n",
    "    \n",
    "    # Get the Y-plane image and convert into numpy array\n",
    "    img = ev_data.at(2)\n",
    "    np_img = larcv.as_ndarray(img)\n",
    "    print(\"shape: \",np_img.shape)\n",
    "    \n",
    "    # we make a 50x50 crop inside the image\n",
    "    np_crop = np_img[75:125,75:125]\n",
    "    \n",
    "    # store data of numpy array into NumpyArrayFloat class\n",
    "    data.store(np_crop)\n",
    "    \n",
    "    # store pdg code\n",
    "    pdgcode[0] = ev_particle.as_vector().at(0).pdg_code()\n",
    "    \n",
    "    # store (x,y,z) vertex\n",
    "    vtx[0] = ev_particle.as_vector().at(0).x()\n",
    "    vtx[1] = ev_particle.as_vector().at(0).y()\n",
    "    vtx[2] = ev_particle.as_vector().at(0).z()\n",
    "    \n",
    "    print(\"ENTRY[%d] PDG=%d\"%(entry,pdgcode[0]))\n",
    "    \n",
    "    # save entry in tree\n",
    "    tree.Fill()\n",
    "    \n",
    "    # plot the image \n",
    "    fig, ax = plt.subplots(1,1,figsize=(5, 5))\n",
    "    #img = imgbatch[ib,:].reshape(256,256)\n",
    "    #imgout = padandcropandflip(img)\n",
    "    #print(\"LABEL[%d]: \"%(ib),labelname[np.argmax(lbl[ib])])\n",
    "    ax.imshow(np_img, cmap='hot', interpolation='nearest')\n",
    "    fig.show()"
   ]
  },
  {
   "cell_type": "code",
   "execution_count": 8,
   "metadata": {},
   "outputs": [],
   "source": [
    "# Write Tree and close\n",
    "# Note: if you want to fill and save the tree again, need to rerun cell that creates TFile\n",
    "tree.Write()\n",
    "outfile.Close()"
   ]
  },
  {
   "cell_type": "code",
   "execution_count": 9,
   "metadata": {
    "scrolled": false
   },
   "outputs": [
    {
     "name": "stdout",
     "output_type": "stream",
     "text": [
      "ENTRY[0] pdg=11 vtx=(93.5,18.8,59.9)\n",
      "ENTRY[1] pdg=22 vtx=(40.5,50.0,91.1)\n",
      "ENTRY[2] pdg=211 vtx=(-0.2,103.6,72.7)\n",
      "ENTRY[3] pdg=2212 vtx=(104.1,22.6,48.6)\n",
      "ENTRY[4] pdg=22 vtx=(65.5,51.6,79.8)\n",
      "ENTRY[5] pdg=211 vtx=(6.5,88.2,115.8)\n",
      "ENTRY[6] pdg=13 vtx=(41.9,106.1,18.4)\n",
      "ENTRY[7] pdg=22 vtx=(14.5,55.3,49.4)\n",
      "ENTRY[8] pdg=22 vtx=(54.9,39.7,47.6)\n",
      "ENTRY[9] pdg=211 vtx=(5.0,124.1,10.7)\n",
      "TFile**\t\tout.root\t\n",
      " TFile*\t\tout.root\t\n",
      "  KEY: TTree\texample;1\tExample output tree\n"
     ]
    },
    {
     "data": {
      "image/png": "[encoded data removed]",
      "text/plain": [
       "<matplotlib.figure.Figure at 0x7f7ea4ace090>"
      ]
     },
     "metadata": {
      "needs_background": "light"
     },
     "output_type": "display_data"
    },
    {
     "data": {
      "image/png": "[encoded data removed]",
      "text/plain": [
       "<matplotlib.figure.Figure at 0x7f7ea48a5dd0>"
      ]
     },
     "metadata": {
      "needs_background": "light"
     },
     "output_type": "display_data"
    },
    {
     "data": {
      "image/png": "[encoded data removed]",
      "text/plain": [
       "<matplotlib.figure.Figure at 0x7f7ea48419d0>"
      ]
     },
     "metadata": {
      "needs_background": "light"
     },
     "output_type": "display_data"
    },
    {
     "data": {
      "image/png": "[encoded data removed]",
      "text/plain": [
       "<matplotlib.figure.Figure at 0x7f7ea47bbb50>"
      ]
     },
     "metadata": {
      "needs_background": "light"
     },
     "output_type": "display_data"
    },
    {
     "data": {
      "image/png": "[encoded data removed]",
      "text/plain": [
       "<matplotlib.figure.Figure at 0x7f7ea4721450>"
      ]
     },
     "metadata": {
      "needs_background": "light"
     },
     "output_type": "display_data"
    },
    {
     "data": {
      "image/png": "[encoded data removed]",
      "text/plain": [
       "<matplotlib.figure.Figure at 0x7f7ea468e950>"
      ]
     },
     "metadata": {
      "needs_background": "light"
     },
     "output_type": "display_data"
    },
    {
     "data": {
      "image/png": "[encoded data removed]",
      "text/plain": [
       "<matplotlib.figure.Figure at 0x7f7ea45e6e10>"
      ]
     },
     "metadata": {
      "needs_background": "light"
     },
     "output_type": "display_data"
    },
    {
     "data": {
      "image/png": "[encoded data removed]",
      "text/plain": [
       "<matplotlib.figure.Figure at 0x7f7ea45780d0>"
      ]
     },
     "metadata": {
      "needs_background": "light"
     },
     "output_type": "display_data"
    },
    {
     "data": {
      "image/png": "[encoded data removed]",
      "text/plain": [
       "<matplotlib.figure.Figure at 0x7f7ea44fbcd0>"
      ]
     },
     "metadata": {
      "needs_background": "light"
     },
     "output_type": "display_data"
    },
    {
     "data": {
      "image/png": "[encoded data removed]",
      "text/plain": [
       "<matplotlib.figure.Figure at 0x7f7ea47d8090>"
      ]
     },
     "metadata": {
      "needs_background": "light"
     },
     "output_type": "display_data"
    }
   ],
   "source": [
    "# OPEN THE FILE AND TREE AND DUMP IMAGES\n",
    "infile = rt.TFile(\"out.root\")\n",
    "infile.ls()\n",
    "\n",
    "# Get the TTree tree from the ROOT file\n",
    "intree = infile.Get(\"example\")\n",
    "\n",
    "# Get the number of entries in the tree\n",
    "nentries = intree.GetEntries()\n",
    "\n",
    "# Loop over the entries\n",
    "for i in range(nentries):\n",
    "    # Load entry i of the TTree\n",
    "    intree.GetEntry(i)\n",
    "    \n",
    "    # access the branch variables\n",
    "    print(\"ENTRY[%d] pdg=%d vtx=(%.1f,%.1f,%.1f)\"%(i,intree.pdg,intree.vtx[0],intree.vtx[1],intree.vtx[2]))\n",
    "    \n",
    "    # to get back the save numpy array, use the following function of NumpyArrayFloat\n",
    "    arr = intree.data.tonumpy()\n",
    "    \n",
    "    # plot it\n",
    "    fig, ax = plt.subplots(1,1,figsize=(5, 5))\n",
    "    ax.imshow(arr, cmap='hot', interpolation='nearest')\n",
    "    fig.show()\n",
    "    "
   ]
  }
 ],
 "metadata": {
  "kernelspec": {
   "display_name": "Python 2",
   "language": "python",
   "name": "python2"
  },
  "language_info": {
   "codemirror_mode": {
    "name": "ipython",
    "version": 2
   },
   "file_extension": ".py",
   "mimetype": "text/x-python",
   "name": "python",
   "nbconvert_exporter": "python",
   "pygments_lexer": "ipython2",
   "version": "2.7.17"
  }
 },
 "nbformat": 4,
 "nbformat_minor": 2
}
